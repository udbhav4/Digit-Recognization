{
  "nbformat": 4,
  "nbformat_minor": 0,
  "metadata": {
    "colab": {
      "name": "DigitRecognizer.ipynb",
      "provenance": [],
      "collapsed_sections": []
    },
    "kernelspec": {
      "name": "python3",
      "display_name": "Python 3"
    },
    "language_info": {
      "name": "python"
    }
  },
  "cells": [
    {
      "cell_type": "code",
      "metadata": {
        "id": "HsH6w-5l9XfP",
        "colab": {
          "base_uri": "https://localhost:8080/"
        },
        "outputId": "50398a52-c7fe-4e3b-cdef-ee188d3f0c09"
      },
      "source": [
        "# Streamlit Canvas\n",
        "\n",
        "!pip install streamlit --quiet\n",
        "!pip install streamlit-drawable-canvas --quiet\n",
        "!pip install pyngrok==4.1.1 --quiet\n",
        "from pyngrok import ngrok"
      ],
      "execution_count": 1,
      "outputs": [
        {
          "output_type": "stream",
          "name": "stdout",
          "text": [
            "\u001b[K     |████████████████████████████████| 8.0 MB 5.1 MB/s \n",
            "\u001b[K     |████████████████████████████████| 170 kB 46.3 MB/s \n",
            "\u001b[K     |████████████████████████████████| 75 kB 2.1 MB/s \n",
            "\u001b[K     |████████████████████████████████| 111 kB 40.6 MB/s \n",
            "\u001b[K     |████████████████████████████████| 4.3 MB 47.5 MB/s \n",
            "\u001b[K     |████████████████████████████████| 63 kB 1.1 MB/s \n",
            "\u001b[K     |████████████████████████████████| 123 kB 70.5 MB/s \n",
            "\u001b[K     |████████████████████████████████| 787 kB 55.3 MB/s \n",
            "\u001b[K     |████████████████████████████████| 370 kB 64.0 MB/s \n",
            "\u001b[?25h  Building wheel for blinker (setup.py) ... \u001b[?25l\u001b[?25hdone\n",
            "\u001b[31mERROR: pip's dependency resolver does not currently take into account all the packages that are installed. This behaviour is the source of the following dependency conflicts.\n",
            "jupyter-console 5.2.0 requires prompt-toolkit<2.0.0,>=1.0.0, but you have prompt-toolkit 3.0.20 which is incompatible.\n",
            "google-colab 1.0.0 requires ipykernel~=4.10, but you have ipykernel 6.3.1 which is incompatible.\n",
            "google-colab 1.0.0 requires ipython~=5.5.0, but you have ipython 7.27.0 which is incompatible.\u001b[0m\n",
            "\u001b[K     |████████████████████████████████| 1.3 MB 4.8 MB/s \n",
            "\u001b[?25h  Building wheel for pyngrok (setup.py) ... \u001b[?25l\u001b[?25hdone\n"
          ]
        }
      ]
    },
    {
      "cell_type": "code",
      "metadata": {
        "colab": {
          "base_uri": "https://localhost:8080/"
        },
        "id": "BZBUOh3l-Bp5",
        "outputId": "436ab42e-364d-44c2-e325-68c906371df1"
      },
      "source": [
        "  %%writefile app.py\n",
        "\n",
        "import streamlit as st\n",
        "from streamlit_drawable_canvas import st_canvas\n",
        "import tensorflow as tf\n",
        "from tensorflow.keras.models import load_model\n",
        "import cv2\n",
        "import numpy as np\n",
        "\n",
        "#Creating canvas component.\n",
        "width= st.sidebar.slider(\"Set stroke width:\", 1, 100, 25)\n",
        "st.title(\"HANDWRITTEN DIGIT CLASSIFIER\")\n",
        "canvas_result= st_canvas(stroke_width= width,\n",
        "                         stroke_color= '#000000',\n",
        "                         background_color= '#ffffff',\n",
        "                         height= 192, width= 192,\n",
        "                         drawing_mode= 'freedraw')\n",
        "\n",
        "if canvas_result.image_data is not None:\n",
        "    image= canvas_result.image_data.astype('uint8')\n",
        "    #st.text(image.shape)\n",
        "    #st.text(image.dtype)\n",
        "\n",
        "    image= cv2.resize(image, (28,28))\n",
        "    image= cv2.cvtColor(image, cv2.COLOR_BGR2GRAY)\n",
        "\n",
        "    st.image(cv2.resize(image, (192,192)), caption= 'YOUR IMAGE')\n",
        "\n",
        "    image= image.reshape(1, 28, 28, 1)\n",
        "\n",
        "    digit_classified= load_model('/content/drive/MyDrive/Smartknower Internship Major Project/digit_classified.h5')\n",
        "    \n",
        "    pred= digit_classified.predict(image)\n",
        "    st.bar_chart(pred[0])\n",
        "    st.text(np.argmax(pred))"
      ],
      "execution_count": 6,
      "outputs": [
        {
          "output_type": "stream",
          "name": "stdout",
          "text": [
            "Overwriting app.py\n"
          ]
        }
      ]
    },
    {
      "cell_type": "code",
      "metadata": {
        "colab": {
          "base_uri": "https://localhost:8080/"
        },
        "id": "nxWd1yVUAeiM",
        "outputId": "60b25f58-398c-4f7c-bfae-f51a8fb07c03"
      },
      "source": [
        "!nohup streamlit run app.py &\n",
        "url= ngrok.connect(port= '8501')\n",
        "print(url)"
      ],
      "execution_count": 3,
      "outputs": [
        {
          "output_type": "stream",
          "name": "stdout",
          "text": [
            "nohup: appending output to 'nohup.out'\n",
            "http://e524-35-225-84-4.ngrok.io\n"
          ]
        }
      ]
    }
  ]
}